{
 "cells": [
  {
   "cell_type": "code",
   "execution_count": null,
   "metadata": {},
   "outputs": [],
   "source": [
    "import numpy as np\n",
    "import matplotlib.pyplot as plt\n",
    "import matplotlib.path as path"
   ]
  },
  {
   "attachments": {},
   "cell_type": "markdown",
   "metadata": {},
   "source": [
    "## Plotting and contour helpers"
   ]
  },
  {
   "cell_type": "code",
   "execution_count": null,
   "metadata": {},
   "outputs": [],
   "source": [
    "def linf_circle(x_c=0., y_c=0., r=1.):\n",
    "    '''\n",
    "    Parametric x, y points to represent a 'circle' in L^\\infty\n",
    "    '''\n",
    "    x = [x_c-r, x_c-r, x_c+r, x_c+r, x_c-r]\n",
    "    y = [y_c-r, y_c+r, y_c+r, y_c-r, y_c-r]\n",
    "    return x, y\n",
    "\n",
    "def linf_path(start, end):\n",
    "    '''\n",
    "    Parametric x, y points to represent a 'distance' path in L^\\infty.\n",
    "\n",
    "    Represented as a broken line connected to both points\n",
    "    - parallel to the axis of greatest difference\n",
    "    - line length represents distance\n",
    "    '''\n",
    "    startx, starty = start\n",
    "    endx, endy = end\n",
    "    if np.abs(startx - endx) > np.abs(starty - endy):\n",
    "        midx = startx + (endx - startx)/2\n",
    "        dy = (endy - starty)/20\n",
    "        return [startx, midx, midx] + [None] + [midx, midx, endx], [starty, starty, starty+dy] + [None] + [endy-dy, endy, endy]\n",
    "    else:\n",
    "        midy = starty + (endy - starty)/2\n",
    "        dx = (endx - startx)/20\n",
    "        return [startx, startx, startx+dx] + [None] + [endx-dx, endx, endx], [starty, midy, midy] + [None] + [midy, midy, endy]\n",
    "    \n",
    "def l2_circle(x_c=0., y_c=0., r=1.):\n",
    "    '''\n",
    "    Parametric x, y points to represent a circle in L^2\n",
    "    '''\n",
    "    t = np.linspace(-np.pi, np.pi, 100)\n",
    "    x = x_c + r * np.cos(t)\n",
    "    y = y_c + r * np.sin(t)\n",
    "    return x, y\n",
    "\n",
    "def l2_path(start, end):\n",
    "    '''\n",
    "    Parametric x, y points to represent a distance path in L^2\n",
    "    '''\n",
    "    return list(zip(start, end))\n",
    "\n",
    "def l1_circle(x_c=0., y_c=0., r=1.):\n",
    "    '''\n",
    "    Parametric x, y points to represent a 'circle' in L^1\n",
    "    '''\n",
    "    x = [x_c-r, x_c, x_c+r, x_c, x_c-r]\n",
    "    y = [y_c, y_c+r, y_c, y_c-r, y_c]\n",
    "    return x, y\n",
    "\n",
    "def l1_path(start, end):\n",
    "    '''\n",
    "    Parametric x, y points to represent a distance path in L^2.\n",
    "    \n",
    "    Represented as a bent line taking each axis in turn\n",
    "    '''\n",
    "    return [start[0], start[0], end[0]], [start[1], end[1], end[1]]"
   ]
  },
  {
   "cell_type": "code",
   "execution_count": null,
   "metadata": {},
   "outputs": [],
   "source": [
    "def distance_map(norm_split, point, minx=-1, maxx=1, miny=-1, maxy=1):\n",
    "    '''\n",
    "    Produce a grid map of norm distance from a given point\n",
    "    :param norm_split: 'split' norm function taking xdiff, ydiff as parameters\n",
    "    :param point: xy position of point to measure from\n",
    "    '''\n",
    "    xs = np.linspace(minx, maxx, 100)\n",
    "    ys = np.linspace(miny, maxy, 100)\n",
    "    px, py = point\n",
    "    xx, yy = np.meshgrid(xs-px, ys-py, sparse=True)\n",
    "    return norm_split(xx, yy)\n",
    "\n",
    "def linf_split(xdists, ydists):\n",
    "    return np.maximum(np.abs(xdists), np.abs(ydists))\n",
    "\n",
    "def l2_split(xdists, ydists):\n",
    "    return np.sqrt(xdists**2 + ydists**2)\n",
    "\n",
    "def l1_split(xdists, ydists):\n",
    "    return np.abs(xdists) + np.abs(ydists)"
   ]
  },
  {
   "attachments": {},
   "cell_type": "markdown",
   "metadata": {},
   "source": [
    "## Producing graphics for alignment metrics"
   ]
  },
  {
   "attachments": {},
   "cell_type": "markdown",
   "metadata": {},
   "source": [
    "### Mixing different distance/normalisation"
   ]
  },
  {
   "cell_type": "code",
   "execution_count": null,
   "metadata": {},
   "outputs": [],
   "source": [
    "def plot_mixed_norms_opposites(start, other, circle_normalisation, path_distance, norm_distance, norm=None):\n",
    "    '''\n",
    "    A pretty illustration of using different norm for distance and normalisation\n",
    "    :param start: identified point to measure distance from\n",
    "    :param other: another point, not opposite, to illustrate distance\n",
    "    :param circle_normalisation: function to produce circle representation for the normalisation norm\n",
    "    :param path_distance: function to produce distance path representation for the distance norm\n",
    "    :param norm_distance: function to measure the distance norm given diffx and diffy\n",
    "    :param norm: function to measure the normalisation\n",
    "    '''\n",
    "    if norm is not None:\n",
    "        start = start / norm(*start)\n",
    "        other = other / norm(*other)\n",
    "\n",
    "    unit_circle = circle_normalisation()\n",
    "    ds = distance_map(norm_distance, start)\n",
    "\n",
    "    opp_path = path_distance(start, -start)\n",
    "    other_path = path_distance(start, other)\n",
    "\n",
    "    fig, ax = plt.subplots()\n",
    "    ax.plot(*unit_circle, '--', c='black', label='unit circle (normalisation)')\n",
    "    im = ax.imshow(ds, extent=[-1, 1, -1, 1], origin='lower')\n",
    "    clip = path.Path(np.stack(unit_circle, -1))\n",
    "    im.set_clip_path(clip, transform=ax.transData)\n",
    "    fig.colorbar(im, label='distance')\n",
    "\n",
    "    ax.scatter(*start, c='black', label='true opposites')\n",
    "    ax.scatter(*-start, c='black')\n",
    "    ax.scatter(*other, c='red', label='further (distance)')\n",
    "\n",
    "    ax.plot(*opp_path, ':', c='black')\n",
    "    ax.plot(*other_path, ':', c='red')\n",
    "\n",
    "    ax.set_xlim(-1.1, 1.1)\n",
    "    ax.set_ylim(-1.1, 1.1)\n",
    "    return fig, ax"
   ]
  },
  {
   "attachments": {},
   "cell_type": "markdown",
   "metadata": {},
   "source": [
    "A plot of the 2d $L^\\infty$ standard surface (a square), with $L^2$ distances, showing\n",
    "\n",
    "- a pair of opposite points having one distance\n",
    "- a third, non-opposite point having _greater_ ($L^2$) distance"
   ]
  },
  {
   "cell_type": "code",
   "execution_count": null,
   "metadata": {},
   "outputs": [],
   "source": [
    "_, ax = plot_mixed_norms_opposites(\n",
    "    start=np.array([-1, 0]),\n",
    "    other=np.array([1, -0.5]),\n",
    "    circle_normalisation=linf_circle,\n",
    "    path_distance=l2_path,\n",
    "    norm_distance=l2_split)\n",
    "ax.set_title('$L^2$ distance with $L^\\infty$ normalisation')\n",
    "ax.legend(loc='upper left');"
   ]
  },
  {
   "attachments": {},
   "cell_type": "markdown",
   "metadata": {},
   "source": [
    "A plot of the 2d $L^2$ standard surface (a circle), with $L^\\infty$ distances, showing\n",
    "\n",
    "- a pair of opposite points having one distance\n",
    "- a third, non-opposite point having _greater_ ($L^\\infty$) distance"
   ]
  },
  {
   "cell_type": "code",
   "execution_count": null,
   "metadata": {},
   "outputs": [],
   "source": [
    "_, ax = plot_mixed_norms_opposites(\n",
    "    start=np.array([-1, -1]),\n",
    "    other=np.array([1, -0.05]),\n",
    "    circle_normalisation=l2_circle,\n",
    "    path_distance=linf_path,\n",
    "    norm_distance=linf_split,\n",
    "    norm=l2_split)\n",
    "ax.set_title('$L^\\infty$ distance with $L^2$ normalisation')\n",
    "ax.legend(loc='upper left');"
   ]
  }
 ],
 "metadata": {
  "kernelspec": {
   "display_name": ".venv",
   "language": "python",
   "name": "python3"
  },
  "language_info": {
   "codemirror_mode": {
    "name": "ipython",
    "version": 3
   },
   "file_extension": ".py",
   "mimetype": "text/x-python",
   "name": "python",
   "nbconvert_exporter": "python",
   "pygments_lexer": "ipython3",
   "version": "3.10.6"
  },
  "orig_nbformat": 4
 },
 "nbformat": 4,
 "nbformat_minor": 2
}
