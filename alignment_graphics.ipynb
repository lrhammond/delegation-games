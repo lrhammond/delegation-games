{
 "cells": [
  {
   "cell_type": "code",
   "execution_count": null,
   "metadata": {},
   "outputs": [],
   "source": [
    "import numpy as np\n",
    "import matplotlib.pyplot as plt\n",
    "import matplotlib.path as path\n",
    "from matplotlib import colormaps as cm\n",
    "from matplotlib.colors import LinearSegmentedColormap"
   ]
  },
  {
   "attachments": {},
   "cell_type": "markdown",
   "metadata": {},
   "source": [
    "## Plotting and contour helpers"
   ]
  },
  {
   "cell_type": "code",
   "execution_count": null,
   "metadata": {},
   "outputs": [],
   "source": [
    "teal = (47.0/255.0, 95.0/255.0, 82.0/255.0)\n",
    "red = (161.0/255.0, 41.0/255.0, 47.0/255.0)\n",
    "orange = (224.0/255.0, 105.0/255.0, 63.0/255.0)\n",
    "blue = (88.0/255.0, 143.0/255.0, 188.0/255.0)\n",
    "yellow = (230.0/255.0, 215.0/255.0, 20.0/255.0)\n",
    "purple = (120.0/255.0, 15.0/255.0, 100.0/255.0)\n",
    "\n",
    "def make_bicolor(cstart, cend, name='bicolor'):\n",
    "    rgb = [[(0, cstart[i], cstart[i]), (1, cend[i], cend[i])] for i in range(3)]\n",
    "    return LinearSegmentedColormap(name, segmentdata={'red':rgb[0], 'green':rgb[1], 'blue':rgb[2]}, N=256)\n",
    "\n",
    "def make_tricolor(cstart, cmid, cend, midpoint=0.5, name='tricolor'):\n",
    "    rgb = [[(0, cstart[i], cstart[i]), (midpoint, cmid[i], cmid[i]), (1, cend[i], cend[i])] for i in range(3)]\n",
    "    return LinearSegmentedColormap(name, segmentdata={'red':rgb[0], 'green':rgb[1], 'blue':rgb[2]}, N=256)\n",
    "\n",
    "bicolor = make_bicolor(red, yellow)\n",
    "tricolor = make_tricolor(purple, orange, yellow, midpoint=0.7)\n",
    "viridis = cm.get_cmap('viridis')"
   ]
  },
  {
   "cell_type": "code",
   "execution_count": null,
   "metadata": {},
   "outputs": [],
   "source": [
    "def linf_circle(x_c=0., y_c=0., r=1.):\n",
    "    '''\n",
    "    Parametric x, y points to represent a 'circle' in L^\\infty\n",
    "    '''\n",
    "    x = [x_c-r, x_c-r, x_c+r, x_c+r, x_c-r]\n",
    "    y = [y_c-r, y_c+r, y_c+r, y_c-r, y_c-r]\n",
    "    return x, y\n",
    "\n",
    "def linf_path(start, end):\n",
    "    '''\n",
    "    Parametric x, y points to represent a 'distance' path in L^\\infty.\n",
    "\n",
    "    Represented as a broken line connected to both points\n",
    "    - parallel to the axis of greatest difference\n",
    "    - line length represents distance\n",
    "    '''\n",
    "    startx, starty = start\n",
    "    endx, endy = end\n",
    "    if np.abs(startx - endx) > np.abs(starty - endy):\n",
    "        midx = startx + (endx - startx)/2\n",
    "        dy = (endy - starty)/20\n",
    "        return [startx, midx, midx] + [None] + [midx, midx, endx], [starty, starty, starty+dy] + [None] + [endy-dy, endy, endy]\n",
    "    else:\n",
    "        midy = starty + (endy - starty)/2\n",
    "        dx = (endx - startx)/20\n",
    "        return [startx, startx, startx+dx] + [None] + [endx-dx, endx, endx], [starty, midy, midy] + [None] + [midy, midy, endy]\n",
    "    \n",
    "def l2_circle(x_c=0., y_c=0., r=1.):\n",
    "    '''\n",
    "    Parametric x, y points to represent a circle in L^2\n",
    "    '''\n",
    "    t = np.linspace(-np.pi, np.pi, 100)\n",
    "    x = x_c + r * np.cos(t)\n",
    "    y = y_c + r * np.sin(t)\n",
    "    return x, y\n",
    "\n",
    "def l2_path(start, end):\n",
    "    '''\n",
    "    Parametric x, y points to represent a distance path in L^2\n",
    "    '''\n",
    "    return list(zip(start, end))\n",
    "\n",
    "def l1_circle(x_c=0., y_c=0., r=1.):\n",
    "    '''\n",
    "    Parametric x, y points to represent a 'circle' in L^1\n",
    "    '''\n",
    "    x = [x_c-r, x_c, x_c+r, x_c, x_c-r]\n",
    "    y = [y_c, y_c+r, y_c, y_c-r, y_c]\n",
    "    return x, y\n",
    "\n",
    "def l1_path(start, end):\n",
    "    '''\n",
    "    Parametric x, y points to represent a distance path in L^2.\n",
    "    \n",
    "    Represented as a bent line taking each axis in turn\n",
    "    '''\n",
    "    return [start[0], start[0], end[0]], [start[1], end[1], end[1]]"
   ]
  },
  {
   "cell_type": "code",
   "execution_count": null,
   "metadata": {},
   "outputs": [],
   "source": [
    "def distance_map(norm_split, point, minx=-1, maxx=1, miny=-1, maxy=1):\n",
    "    '''\n",
    "    Produce a grid map of norm distance from a given point\n",
    "    :param norm_split: 'split' norm function taking xdiff, ydiff as parameters\n",
    "    :param point: xy position of point to measure from\n",
    "    '''\n",
    "    xs = np.linspace(minx, maxx, 100)\n",
    "    ys = np.linspace(miny, maxy, 100)\n",
    "    px, py = point\n",
    "    xx, yy = np.meshgrid(xs-px, ys-py, sparse=True)\n",
    "    return norm_split(xx, yy)\n",
    "\n",
    "def linf_split(xdists, ydists):\n",
    "    return np.maximum(np.abs(xdists), np.abs(ydists))\n",
    "\n",
    "def l2_split(xdists, ydists):\n",
    "    return np.sqrt(xdists**2 + ydists**2)\n",
    "\n",
    "def l1_split(xdists, ydists):\n",
    "    return np.abs(xdists) + np.abs(ydists)"
   ]
  },
  {
   "attachments": {},
   "cell_type": "markdown",
   "metadata": {},
   "source": [
    "## Producing graphics for alignment metrics"
   ]
  },
  {
   "attachments": {},
   "cell_type": "markdown",
   "metadata": {},
   "source": [
    "### Mixing different distance/normalisation"
   ]
  },
  {
   "cell_type": "code",
   "execution_count": null,
   "metadata": {},
   "outputs": [],
   "source": [
    "def plot_mixed_norms_opposites(start, other, circle_normalisation, path_distance, norm_distance, norm=None):\n",
    "    '''\n",
    "    A pretty illustration of using different norm for distance and normalisation\n",
    "    :param start: identified point to measure distance from\n",
    "    :param other: another point, not opposite, to illustrate distance\n",
    "    :param circle_normalisation: function to produce circle representation for the normalisation norm\n",
    "    :param path_distance: function to produce distance path representation for the distance norm\n",
    "    :param norm_distance: function to measure the distance norm given diffx and diffy\n",
    "    :param norm: function to measure the normalisation\n",
    "    '''\n",
    "    if norm is not None:\n",
    "        start = start / norm(*start)\n",
    "        other = other / norm(*other)\n",
    "\n",
    "    unit_circle = circle_normalisation()\n",
    "    ds = distance_map(norm_distance, start)\n",
    "\n",
    "    opp_path = path_distance(start, -start)\n",
    "    other_path = path_distance(start, other)\n",
    "\n",
    "    fig, ax = plt.subplots()\n",
    "    ax.plot(*unit_circle, '--', c='black', label='unit circle (normalisation)')\n",
    "    im = ax.imshow(ds, extent=[-1, 1, -1, 1], origin='lower', cmap=tricolor)\n",
    "    clip = path.Path(np.stack(unit_circle, -1))\n",
    "    im.set_clip_path(clip, transform=ax.transData)\n",
    "    fig.colorbar(im, label='distance')\n",
    "\n",
    "    ax.scatter(*start, c='black', label='true opposites')\n",
    "    ax.scatter(*-start, c='black')\n",
    "    ax.scatter(*other, c=blue, label='further (distance)')\n",
    "\n",
    "    ax.plot(*opp_path, ':', c='black')\n",
    "    ax.plot(*other_path, ':', c=blue)\n",
    "\n",
    "    ax.set_xlim(-1.1, 1.1)\n",
    "    ax.set_ylim(-1.1, 1.1)\n",
    "    return fig, ax"
   ]
  },
  {
   "attachments": {},
   "cell_type": "markdown",
   "metadata": {},
   "source": [
    "A plot of the 2d $L^\\infty$ standard surface (a square), with $L^2$ distances, showing\n",
    "\n",
    "- a pair of opposite points having one distance\n",
    "- a third, non-opposite point having _greater_ ($L^2$) distance"
   ]
  },
  {
   "cell_type": "code",
   "execution_count": null,
   "metadata": {},
   "outputs": [],
   "source": [
    "_, ax = plot_mixed_norms_opposites(\n",
    "    start=np.array([-1, 0]),\n",
    "    other=np.array([1, -0.5]),\n",
    "    circle_normalisation=linf_circle,\n",
    "    path_distance=l2_path,\n",
    "    norm_distance=l2_split)\n",
    "ax.set_title('$L^2$ distance with $L^\\infty$ normalisation')\n",
    "ax.legend(loc='upper left');"
   ]
  },
  {
   "attachments": {},
   "cell_type": "markdown",
   "metadata": {},
   "source": [
    "A plot of the 2d $L^2$ standard surface (a circle), with $L^\\infty$ distances, showing\n",
    "\n",
    "- a pair of opposite points having one distance\n",
    "- a third, non-opposite point having _greater_ ($L^\\infty$) distance"
   ]
  },
  {
   "cell_type": "code",
   "execution_count": null,
   "metadata": {},
   "outputs": [],
   "source": [
    "_, ax = plot_mixed_norms_opposites(\n",
    "    start=np.array([-1, -1]),\n",
    "    other=np.array([1, -0.05]),\n",
    "    circle_normalisation=l2_circle,\n",
    "    path_distance=linf_path,\n",
    "    norm_distance=linf_split,\n",
    "    norm=l2_split)\n",
    "ax.set_title('$L^\\infty$ distance with $L^2$ normalisation')\n",
    "ax.legend(loc='upper left');"
   ]
  },
  {
   "attachments": {},
   "cell_type": "markdown",
   "metadata": {},
   "source": [
    "### Strict convexity and opposites"
   ]
  },
  {
   "cell_type": "code",
   "execution_count": null,
   "metadata": {},
   "outputs": [],
   "source": [
    "def plot_maximal_and_opposites(start, other, circle_norm, path_norm, norm=None, reverse_other_path=False, show_other_projected=False):\n",
    "    '''\n",
    "    A pretty illustration of maximal distances and opposite points.\n",
    "    \n",
    "    Expects same norm to be used for distance and normalisation.\n",
    "\n",
    "    :param start: identified point to take distances from\n",
    "    :param other: another, non-opposite point, to illustrate distance\n",
    "    :param circle_norm: function to produce circle representation\n",
    "    :param path_norm: function to produce distance path representation\n",
    "    :param norm: function to measure the norm\n",
    "    :param reverse_other_path: draw the path from start to other in the reverse direction\n",
    "    :param show_other_projected: project the other point away from start, to maximal distance, and show additionally\n",
    "    '''\n",
    "    extent = [-1.3, 1.3, -1.3, 1.3]\n",
    "    \n",
    "    unit_circle = circle_norm()\n",
    "    if norm is not None:\n",
    "        start = start / norm(*start)\n",
    "    opp = -start\n",
    "    if show_other_projected:\n",
    "        other_projected = start + 2*(other - start)/norm(*(other - start))\n",
    "\n",
    "    ds = distance_map(norm, start, *extent)\n",
    "    maximal_circle = circle_norm(*start, 2)\n",
    "\n",
    "    opp_path = path_norm(start, opp)\n",
    "    other_path = path_norm(start, other) if not reverse_other_path else path_norm(other, start)\n",
    "\n",
    "    fig, ax = plt.subplots(1, 1, figsize=(5, 5))\n",
    "\n",
    "    im = ax.imshow(ds, extent=extent, origin='lower', cmap=tricolor, vmax=2)\n",
    "    clip = path.Path(np.stack(maximal_circle, -1))\n",
    "    im.set_clip_path(clip, transform=ax.transData)\n",
    "    fig.colorbar(im, label='distance')\n",
    "\n",
    "    ax.plot(*unit_circle, '--', c='black', label='unit circle')\n",
    "    ax.plot(*maximal_circle, c='black', label='maximal-distance circle')\n",
    "\n",
    "    ax.scatter(*start, c='black', label='true opposites')\n",
    "    ax.scatter(*opp, c='black')\n",
    "    ax.scatter(*other, c=blue, label='non-opposite')\n",
    "    if show_other_projected:\n",
    "        ax.scatter(*other_projected, marker='^', c=blue, label='projected')\n",
    "\n",
    "    ax.plot(*opp_path, ':', c='black')\n",
    "    ax.plot(*other_path, ':', c=blue)\n",
    "\n",
    "    ax.set_xlim(*extent[:2])\n",
    "    ax.set_ylim(*extent[2:])\n",
    "    return ax"
   ]
  },
  {
   "attachments": {},
   "cell_type": "markdown",
   "metadata": {},
   "source": [
    "A plot of the $L^2$ unit circle, showing\n",
    "\n",
    "- an identified point with a 'maximal distance' circle around it\n",
    "- an opposite point, maximally distant\n",
    "- a third point, not maximally distant"
   ]
  },
  {
   "cell_type": "code",
   "execution_count": null,
   "metadata": {},
   "outputs": [],
   "source": [
    "ax = plot_maximal_and_opposites(\n",
    "    start=np.array([-1, -1]),\n",
    "    other=np.array([1, 0]),\n",
    "    circle_norm=l2_circle,\n",
    "    path_norm=l2_path,\n",
    "    norm=l2_split,\n",
    "    show_other_projected=True)\n",
    "ax.set_title('$L^2$ (strictly convex)')\n",
    "ax.legend(loc='upper left');"
   ]
  },
  {
   "attachments": {},
   "cell_type": "markdown",
   "metadata": {},
   "source": [
    "A plot of the $L^\\infty$ unit circle, showing\n",
    "\n",
    "- an identified point with a 'maximal distance' circle around it\n",
    "- an opposite point, maximally distant\n",
    "- a third point, also maximally distant"
   ]
  },
  {
   "cell_type": "code",
   "execution_count": null,
   "metadata": {},
   "outputs": [],
   "source": [
    "ax = plot_maximal_and_opposites(\n",
    "    start=np.array([-1, 0]),\n",
    "    other=np.array([1, -0.5]),\n",
    "    circle_norm=linf_circle,\n",
    "    path_norm=linf_path,\n",
    "    norm=linf_split,\n",
    "    reverse_other_path=True) # draw the path starting from the end, for better visual distinction\n",
    "ax.set_title('$L^\\infty$ (not strictly convex)')\n",
    "ax.legend(loc='upper left');"
   ]
  },
  {
   "attachments": {},
   "cell_type": "markdown",
   "metadata": {},
   "source": [
    "A plot of the $L^1$ unit circle, showing\n",
    "\n",
    "- an identified point with a 'maximal distance' circle around it\n",
    "- an opposite point, maximally distant\n",
    "- a third point, also maximally distant"
   ]
  },
  {
   "cell_type": "code",
   "execution_count": null,
   "metadata": {},
   "outputs": [],
   "source": [
    "ax = plot_maximal_and_opposites(\n",
    "    start=np.array([-1, 0]),\n",
    "    other=np.array([0.5, -0.5]),\n",
    "    circle_norm=l1_circle,\n",
    "    path_norm=l1_path,\n",
    "    norm=l1_split)\n",
    "ax.set_title('$L^1$ (not strictly convex)')\n",
    "ax.legend(loc='upper left');"
   ]
  }
 ],
 "metadata": {
  "kernelspec": {
   "display_name": ".venv",
   "language": "python",
   "name": "python3"
  },
  "language_info": {
   "codemirror_mode": {
    "name": "ipython",
    "version": 3
   },
   "file_extension": ".py",
   "mimetype": "text/x-python",
   "name": "python",
   "nbconvert_exporter": "python",
   "pygments_lexer": "ipython3",
   "version": "3.10.6"
  },
  "orig_nbformat": 4
 },
 "nbformat": 4,
 "nbformat_minor": 2
}
