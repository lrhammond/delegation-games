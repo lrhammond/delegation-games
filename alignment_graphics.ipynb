{
 "cells": [
  {
   "cell_type": "code",
   "execution_count": null,
   "metadata": {},
   "outputs": [],
   "source": [
    "import numpy as np\n",
    "import matplotlib.pyplot as plt\n",
    "import matplotlib.patches as patches"
   ]
  },
  {
   "attachments": {},
   "cell_type": "markdown",
   "metadata": {},
   "source": [
    "A plot of the 2d $L^\\infty$ standard surface (a square), with $L^2$ distances, showing\n",
    "\n",
    "- a pair of opposite points having one distance\n",
    "- a third, non-opposite point having _greater_ ($L^2$) distance"
   ]
  },
  {
   "cell_type": "code",
   "execution_count": null,
   "metadata": {},
   "outputs": [],
   "source": [
    "# grid of coordinates, an identified point, and L2 distances to that point\n",
    "xs = np.linspace(-1, 1)\n",
    "ys = np.linspace(-1, 1)\n",
    "xx, yy = np.meshgrid(xs, ys)\n",
    "point = np.array([1, 0])\n",
    "px, py = point\n",
    "linfd = np.sqrt((xx - px)**2 + (yy - py)**2)\n",
    "\n",
    "# parametric boundary to plot the standard surface (square)\n",
    "x = np.array([-1, -1, 1, 1, -1])\n",
    "y = np.array([-1, 1, 1, -1, -1])\n",
    "\n",
    "# display the distances as colour map, identified points, and standard surface\n",
    "ax = plt.gca()\n",
    "ax.imshow(linfd, extent=[-1, 1, -1, 1], origin='lower')\n",
    "ax.plot(x, y)\n",
    "ax.scatter(px, py, label='start')\n",
    "ax.scatter(-px, -py, label='true opposite')\n",
    "ax.scatter(-1, 1, label='$L^2$ \\'further\\'')\n",
    "ax.set_xlim(-1.1, 1.1)\n",
    "ax.set_ylim(-1.1, 1.1)\n",
    "ax.legend();"
   ]
  },
  {
   "attachments": {},
   "cell_type": "markdown",
   "metadata": {},
   "source": [
    "A plot of the 2d $L^2$ standard surface (a circle), with $L^\\infty$ distances, showing\n",
    "\n",
    "- a pair of opposite points having one distance\n",
    "- a third, non-opposite point having _greater_ ($L^\\infty$) distance"
   ]
  },
  {
   "cell_type": "code",
   "execution_count": null,
   "metadata": {},
   "outputs": [],
   "source": [
    "# grid of coordinates, and identified point, and L^infty distances to that point\n",
    "xs = np.linspace(-1, 1)\n",
    "ys = np.linspace(-1, 1)\n",
    "xx, yy = np.meshgrid(xs, ys)\n",
    "point = np.array([np.cos(np.pi/4), np.sin(np.pi/4)])\n",
    "px, py = point\n",
    "linfd = np.maximum(np.abs(xx - px), np.abs(yy - py))\n",
    "\n",
    "# parametric boundary to plot the standard surface (circle)\n",
    "t = np.linspace(-np.pi, np.pi)\n",
    "x = np.cos(t)\n",
    "y = np.sin(t)\n",
    "\n",
    "# display the distances as colour map, identified points, and standard surface\n",
    "ax = plt.gca()\n",
    "im = ax.imshow(linfd, extent=[-1, 1, -1, 1], origin='lower')\n",
    "im.set_clip_path(patches.Circle((0, 0), radius=1, transform=ax.transData))\n",
    "ax.plot(x, y)\n",
    "ax.scatter(px, py, label='start')\n",
    "ax.scatter(-px, -py, label='true opposite')\n",
    "ax.scatter(-1, 0, label='$L^\\infty$ \\'further\\'')\n",
    "ax.set_xlim(-1.1, 1.1)\n",
    "ax.set_ylim(-1.1, 1.1)\n",
    "ax.legend();"
   ]
  }
 ],
 "metadata": {
  "kernelspec": {
   "display_name": ".venv",
   "language": "python",
   "name": "python3"
  },
  "language_info": {
   "codemirror_mode": {
    "name": "ipython",
    "version": 3
   },
   "file_extension": ".py",
   "mimetype": "text/x-python",
   "name": "python",
   "nbconvert_exporter": "python",
   "pygments_lexer": "ipython3",
   "version": "3.10.6"
  },
  "orig_nbformat": 4
 },
 "nbformat": 4,
 "nbformat_minor": 2
}
