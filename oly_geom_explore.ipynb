{
 "cells": [
  {
   "cell_type": "code",
   "execution_count": null,
   "metadata": {},
   "outputs": [],
   "source": [
    "import numpy as np\n",
    "\n",
    "seed = 1282\n",
    "rng = np.random.RandomState(seed)"
   ]
  },
  {
   "cell_type": "code",
   "execution_count": null,
   "metadata": {},
   "outputs": [],
   "source": [
    "from alignment import EPIC, distance as alignment_distance\n",
    "from geom import orthogonal_project_planar, standardise, get_angle, random_heading_in_zero_mean_subspace, rotate_in_plane, random_epic_distance_step"
   ]
  },
  {
   "attachments": {},
   "cell_type": "markdown",
   "metadata": {},
   "source": [
    "### Testing standardisation"
   ]
  },
  {
   "cell_type": "code",
   "execution_count": null,
   "metadata": {},
   "outputs": [],
   "source": [
    "a = rng.randn(5)\n",
    "print(a.mean().round(3), np.linalg.norm(a).round(3))\n",
    "s = standardise(a)\n",
    "print(s.mean().round(3), np.linalg.norm(s).round(3))"
   ]
  },
  {
   "attachments": {},
   "cell_type": "markdown",
   "metadata": {},
   "source": [
    "### Testing orthogonal projection"
   ]
  },
  {
   "cell_type": "code",
   "execution_count": null,
   "metadata": {},
   "outputs": [],
   "source": [
    "print(*orthogonal_project_planar([0, 0.001], rng.randn(2))) # (0, 1) and (+-1, 0)"
   ]
  },
  {
   "cell_type": "code",
   "execution_count": null,
   "metadata": {},
   "outputs": [],
   "source": [
    "a, b = rng.randn(2, 5)\n",
    "ao, bo = orthogonal_project_planar(a, b)\n",
    "print('random norms and angle:', np.linalg.norm(a).round(3), np.linalg.norm(b).round(3), (get_angle(a, b) / np.pi).round(3))\n",
    "print('orthonormalised norms and angle:', np.linalg.norm(ao).round(3), np.linalg.norm(bo).round(3), (get_angle(ao, bo) / np.pi).round(3))"
   ]
  },
  {
   "attachments": {},
   "cell_type": "markdown",
   "metadata": {},
   "source": [
    "### Testing rotation"
   ]
  },
  {
   "cell_type": "code",
   "execution_count": null,
   "metadata": {},
   "outputs": [],
   "source": [
    "def random_zero_mean_rotation(v:np.ndarray, theta:float) -> np.ndarray:\n",
    "    '''\n",
    "    Randomly rotate given vector by given angle\n",
    "    '''\n",
    "    dim = v.shape[0]\n",
    "    random_heading = random_heading_in_zero_mean_subspace(dim)\n",
    "    return rotate_in_plane(v, random_heading, theta)"
   ]
  },
  {
   "cell_type": "code",
   "execution_count": null,
   "metadata": {},
   "outputs": [],
   "source": [
    "# rotating a standardised vector by any amount should yield a standardised vector\n",
    "a = standardise(rng.randn(5))\n",
    "print('standard random mean, norm:', a.mean().round(3), np.linalg.norm(a).round(3))\n",
    "u = random_zero_mean_rotation(a, rng.uniform(0, np.pi))\n",
    "print('randomly rotated mean, norm:', u.mean().round(3), np.linalg.norm(u).round(3))"
   ]
  },
  {
   "cell_type": "code",
   "execution_count": null,
   "metadata": {},
   "outputs": [],
   "source": [
    "# 2d\n",
    "# specific rotations of known point\n",
    "a = np.array([0, 1])\n",
    "print(np.round(random_zero_mean_rotation(a, 0), decimals=2))     # 0, 1\n",
    "print(np.round(random_zero_mean_rotation(a, np.pi), decimals=2))     # 0, -1\n",
    "print(np.round(random_zero_mean_rotation(a, np.pi/2), decimals=2))   # +-1, 0\n",
    "print(np.round(random_zero_mean_rotation(a, np.pi/3), decimals=2))   # +=sqrt(3/4), 1/2\n",
    "print(np.round(random_zero_mean_rotation(a, np.pi/4), decimals=2))   # +=sqrt(1/2), sqrt(1/2)\n",
    "print(np.round(random_zero_mean_rotation(a, np.pi/6), decimals=2))   # +-1/2, sqrt(3/4)\n",
    "# random rotation should be by specified angle\n",
    "theta = rng.uniform(0, np.pi)\n",
    "a_rotated = random_zero_mean_rotation(a, theta)\n",
    "theta_recovered = get_angle(a, a_rotated)\n",
    "print('theta error:', round(abs(theta_recovered - theta), 2))"
   ]
  },
  {
   "cell_type": "code",
   "execution_count": null,
   "metadata": {},
   "outputs": [],
   "source": [
    "# 10d\n",
    "# random point, random rotations\n",
    "a = rng.randn(10)\n",
    "for i in range(10):\n",
    "    theta = rng.uniform(0, np.pi)\n",
    "    a_rotated = random_zero_mean_rotation(a, theta)\n",
    "    theta_recovered = get_angle(a, a_rotated)\n",
    "    print('theta error:', round(abs(theta_recovered - theta), 2))"
   ]
  },
  {
   "cell_type": "code",
   "execution_count": null,
   "metadata": {},
   "outputs": [],
   "source": [
    "# rotating standardised vector should give angle-related distance\n",
    "a = standardise(rng.randn(10))\n",
    "theta = np.pi/3 # equilateral triangle\n",
    "a_rotated = random_zero_mean_rotation(a, theta)\n",
    "print(a.mean().round(3), np.linalg.norm(a).round(3))\n",
    "print(a_rotated.mean().round(3), np.linalg.norm(a_rotated).round(3))\n",
    "distance = np.linalg.norm(a - a_rotated)\n",
    "print(distance.round(3)) # equilateral so distance should be 1"
   ]
  },
  {
   "attachments": {},
   "cell_type": "markdown",
   "metadata": {},
   "source": [
    "### Testing EPIC rotation"
   ]
  },
  {
   "cell_type": "code",
   "execution_count": null,
   "metadata": {},
   "outputs": [],
   "source": [
    "for i in range(10):\n",
    "    a = standardise(rng.randn(5))\n",
    "    d_epic = rng.uniform(0, 1)\n",
    "    a_stepped = random_epic_distance_step(a, d_epic)\n",
    "    d_epic_recovered = alignment_distance(EPIC, a, a_stepped)\n",
    "    print('EPIC error:', round(abs(d_epic_recovered - d_epic), 4), f'{a} by ({round(d_epic, 3)})')"
   ]
  },
  {
   "cell_type": "code",
   "execution_count": null,
   "metadata": {},
   "outputs": [],
   "source": [
    "# 16d (4x4)\n",
    "a = standardise(rng.randn(4, 4))\n",
    "d_epic = rng.uniform(0, 1)\n",
    "a_stepped = random_epic_distance_step(a, d_epic).reshape(a.shape)\n",
    "d_epic_recovered = alignment_distance(EPIC, a, a_stepped)\n",
    "print('EPIC error:', round(abs(d_epic_recovered - d_epic), 4))"
   ]
  }
 ],
 "metadata": {
  "kernelspec": {
   "display_name": ".venv",
   "language": "python",
   "name": "python3"
  },
  "language_info": {
   "codemirror_mode": {
    "name": "ipython",
    "version": 3
   },
   "file_extension": ".py",
   "mimetype": "text/x-python",
   "name": "python",
   "nbconvert_exporter": "python",
   "pygments_lexer": "ipython3",
   "version": "3.10.6"
  },
  "orig_nbformat": 4
 },
 "nbformat": 4,
 "nbformat_minor": 2
}
