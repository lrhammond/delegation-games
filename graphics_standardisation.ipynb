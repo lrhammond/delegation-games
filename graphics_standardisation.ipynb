{
 "cells": [
  {
   "cell_type": "code",
   "execution_count": null,
   "metadata": {},
   "outputs": [],
   "source": [
    "import numpy as np\n",
    "import plotly.graph_objects as go\n",
    "from plotly.subplots import make_subplots"
   ]
  },
  {
   "cell_type": "code",
   "execution_count": null,
   "metadata": {},
   "outputs": [],
   "source": [
    "import alignment # wouldn't that be nice!!"
   ]
  },
  {
   "cell_type": "code",
   "execution_count": null,
   "metadata": {},
   "outputs": [],
   "source": [
    "# mix and match is fine; an affine-invariant shift and a norm for scale\n",
    "SHIFT = alignment.MAX.shift\n",
    "SCALE = alignment.EPIC.scale"
   ]
  },
  {
   "cell_type": "code",
   "execution_count": null,
   "metadata": {},
   "outputs": [],
   "source": [
    "n_points = 500\n",
    "raw_points = np.random.randn(n_points, 3)\n",
    "x, y, z = raw_points.T"
   ]
  },
  {
   "cell_type": "code",
   "execution_count": null,
   "metadata": {},
   "outputs": [],
   "source": [
    "c = SHIFT(raw_points)\n",
    "m = SCALE(raw_points - c)"
   ]
  },
  {
   "cell_type": "code",
   "execution_count": null,
   "metadata": {},
   "outputs": [],
   "source": [
    "fig = make_subplots(specs=[[{'is_3d':True}]])\n",
    "scatter = go.Scatter3d(\n",
    "    x=x,\n",
    "    y=y,\n",
    "    z=z,\n",
    "    mode='markers',\n",
    "    marker=dict(\n",
    "        color=m.flatten(),\n",
    "        colorscale='Greens_r',\n",
    "        size=1.5\n",
    "    ),\n",
    ")\n",
    "fig.append_trace(scatter, row=1, col=1)\n",
    "fig"
   ]
  },
  {
   "cell_type": "code",
   "execution_count": null,
   "metadata": {},
   "outputs": [],
   "source": [
    "shifted_points = raw_points - c\n",
    "xc, yc, zc = shifted_points.T"
   ]
  },
  {
   "cell_type": "code",
   "execution_count": null,
   "metadata": {},
   "outputs": [],
   "source": [
    "fig = make_subplots(specs=[[{'is_3d':True}]])\n",
    "scatter = go.Scatter3d(\n",
    "    x=xc,\n",
    "    y=yc,\n",
    "    z=zc,\n",
    "    mode='markers',\n",
    "    marker=dict(\n",
    "        color=m.flatten(),\n",
    "        colorscale='Greens_r',\n",
    "        size=1.5\n",
    "    ),\n",
    ")\n",
    "fig.append_trace(scatter, row=1, col=1)\n",
    "fig"
   ]
  },
  {
   "cell_type": "code",
   "execution_count": null,
   "metadata": {},
   "outputs": [],
   "source": [
    "scaled_points = shifted_points / m\n",
    "xm, ym, zm = scaled_points.T"
   ]
  },
  {
   "cell_type": "code",
   "execution_count": null,
   "metadata": {},
   "outputs": [],
   "source": [
    "fig = make_subplots(specs=[[{'is_3d':True}]])\n",
    "scatter = go.Scatter3d(\n",
    "    x=xm,\n",
    "    y=ym,\n",
    "    z=zm,\n",
    "    mode='markers',\n",
    "    marker=dict(\n",
    "        color=m.flatten(),\n",
    "        colorscale='Greens_r',\n",
    "        size=1.5\n",
    "    ),\n",
    ")\n",
    "fig.append_trace(scatter, row=1, col=1)\n",
    "fig"
   ]
  }
 ],
 "metadata": {
  "kernelspec": {
   "display_name": ".venv",
   "language": "python",
   "name": "python3"
  },
  "language_info": {
   "codemirror_mode": {
    "name": "ipython",
    "version": 3
   },
   "file_extension": ".py",
   "mimetype": "text/x-python",
   "name": "python",
   "nbconvert_exporter": "python",
   "pygments_lexer": "ipython3",
   "version": "3.12.1"
  },
  "orig_nbformat": 4
 },
 "nbformat": 4,
 "nbformat_minor": 2
}
