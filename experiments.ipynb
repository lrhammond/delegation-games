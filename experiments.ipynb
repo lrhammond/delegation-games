{
 "cells": [
  {
   "cell_type": "code",
   "execution_count": 109,
   "metadata": {},
   "outputs": [
    {
     "name": "stdout",
     "output_type": "stream",
     "text": [
      "Bi matrix game with payoff matrices:\n",
      "\n",
      "Row player:\n",
      "[[0.60964452 0.55289569]\n",
      " [0.87407313 0.00254038]]\n",
      "\n",
      "Column player:\n",
      "[[ 0.30692167 -0.14037361]\n",
      " [-0.79384774  0.04672695]]\n"
     ]
    },
    {
     "ename": "IndexError",
     "evalue": "list index out of range",
     "output_type": "error",
     "traceback": [
      "\u001b[0;31m---------------------------------------------------------------------------\u001b[0m",
      "\u001b[0;31mIndexError\u001b[0m                                Traceback (most recent call last)",
      "\u001b[1;32m/home/bart/projects/cai/Cooperative-AI/experiments.ipynb Cell 1\u001b[0m in \u001b[0;36m<cell line: 54>\u001b[0;34m()\u001b[0m\n\u001b[1;32m     <a href='vscode-notebook-cell:/home/bart/projects/cai/Cooperative-AI/experiments.ipynb#W0sZmlsZQ%3D%3D?line=50'>51</a>\u001b[0m game \u001b[39m=\u001b[39m principals_game\n\u001b[1;32m     <a href='vscode-notebook-cell:/home/bart/projects/cai/Cooperative-AI/experiments.ipynb#W0sZmlsZQ%3D%3D?line=52'>53</a>\u001b[0m \u001b[39mprint\u001b[39m(game)\n\u001b[0;32m---> <a href='vscode-notebook-cell:/home/bart/projects/cai/Cooperative-AI/experiments.ipynb#W0sZmlsZQ%3D%3D?line=53'>54</a>\u001b[0m find_the_equilibrium(game)\n",
      "\u001b[1;32m/home/bart/projects/cai/Cooperative-AI/experiments.ipynb Cell 1\u001b[0m in \u001b[0;36mfind_the_equilibrium\u001b[0;34m(g)\u001b[0m\n\u001b[1;32m     <a href='vscode-notebook-cell:/home/bart/projects/cai/Cooperative-AI/experiments.ipynb#W0sZmlsZQ%3D%3D?line=21'>22</a>\u001b[0m \u001b[39mfor\u001b[39;00m eq \u001b[39min\u001b[39;00m eqs:\n\u001b[1;32m     <a href='vscode-notebook-cell:/home/bart/projects/cai/Cooperative-AI/experiments.ipynb#W0sZmlsZQ%3D%3D?line=22'>23</a>\u001b[0m \tarr_1\u001b[39m.\u001b[39mappend(eq)\n\u001b[0;32m---> <a href='vscode-notebook-cell:/home/bart/projects/cai/Cooperative-AI/experiments.ipynb#W0sZmlsZQ%3D%3D?line=23'>24</a>\u001b[0m \u001b[39mreturn\u001b[39;00m arr_1[\u001b[39m2\u001b[39;49m]\n",
      "\u001b[0;31mIndexError\u001b[0m: list index out of range"
     ]
    }
   ],
   "source": [
    "import numpy as np\n",
    "import nashpy as nash\n",
    "\n",
    "data = []\n",
    "\n",
    "def find_the_equilibrium(g):\n",
    "# Function that returns the one optimal equilibrium using different methods from nashpy\n",
    "\tarr, arr_1 = [], []\n",
    "\n",
    "\tlhs = g.lemke_howson_enumeration()\n",
    "\tfor lh in lhs:\n",
    "\t\tarr.append(lh)\n",
    "\n",
    "\t# Check if lemke_howson's output is is all the same (only first 2 outputs for simplicity)\n",
    "\tif np.array_equal(arr[0], arr[1]):\n",
    "\t\t# If so then that is the corret eq\n",
    "\t\treturn arr[0]\n",
    "\n",
    "\telse:# Return 3rd output of the support_enumeration method \n",
    "\t\t#(TODO: check if it's the same with 2nd output of vertex_enumeration (it should be))\n",
    "\t\teqs = g.support_enumeration()\n",
    "\t\tfor eq in eqs:\n",
    "\t\t\tarr_1.append(eq)\n",
    "\t\treturn arr_1[2]\n",
    "\n",
    "\n",
    "def experiment():  \n",
    "\n",
    "    # Sample G and G' from uniform distribution [-1, 1]\n",
    "    agents_game = nash.Game(np.random.uniform(-1, 1, size=(2,2)), np.random.uniform(-1, 1, size=(2,2)))\n",
    "\n",
    "    # Sample E_v and E_h from uniform distribution [0, 1], where 1 is perfect rationality (playing NE 100% of the time)\n",
    "    E_v, E_h = np.random.uniform(0, 1), np.random.uniform(0, 1)\n",
    "\n",
    "    # Compute E - NE(Game)\n",
    "    eqs = list(agents_game.support_enumeration())\n",
    "\n",
    "    # Compute A_v, A_h, W_p\n",
    "\n",
    "    return agents_game, eqs\n",
    "\n",
    "\n",
    "principals_game = nash.Game(np.random.uniform(-1, 1, size=(2,2)), np.random.uniform(-1, 1, size=(2,2)))\n",
    "\n",
    "\n",
    "\n",
    "\n",
    "# for _ in range(1):\n",
    "#     data.append(experiment())\n",
    "\n",
    "game = principals_game\n",
    "\n",
    "print(game)\n",
    "\n",
    "find_the_equilibrium(game)\n",
    "\n"
   ]
  }
 ],
 "metadata": {
  "kernelspec": {
   "display_name": "Python 3",
   "language": "python",
   "name": "python3"
  },
  "language_info": {
   "codemirror_mode": {
    "name": "ipython",
    "version": 3
   },
   "file_extension": ".py",
   "mimetype": "text/x-python",
   "name": "python",
   "nbconvert_exporter": "python",
   "pygments_lexer": "ipython3",
   "version": "3.10.6"
  },
  "orig_nbformat": 4,
  "vscode": {
   "interpreter": {
    "hash": "916dbcbb3f70747c44a77c7bcd40155683ae19c65e1c03b4aa3499c5328201f1"
   }
  }
 },
 "nbformat": 4,
 "nbformat_minor": 2
}
