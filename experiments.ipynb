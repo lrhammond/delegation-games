{
 "cells": [
  {
   "cell_type": "code",
   "execution_count": 1,
   "metadata": {},
   "outputs": [],
   "source": [
    "import numpy as np\n",
    "import nashpy as nash\n",
    "\n",
    "def find_the_equilibrium(g):\n",
    "# Function that returns the one optimal equilibrium using different methods from nashpy\n",
    "\tarr, arr_1 = [], []\n",
    "\n",
    "\tlhs = g.lemke_howson_enumeration()\n",
    "\tfor lh in lhs:\n",
    "\t\tarr.append(lh)\n",
    "\n",
    "\t# Check if lemke_howson's output is is all the same (only first 2 outputs for simplicity)\n",
    "\tif np.array_equal(arr[0], arr[1]):\n",
    "\t\t# If so then that is the corret equlibrium\n",
    "\t\treturn arr[0]\n",
    "\n",
    "\telse: # Return 3rd output of the support_enumeration method \n",
    "\t\t#(TODO: check if it's the same with 2nd output of vertex_enumeration (it should be))\n",
    "\t\teqs = g.support_enumeration()\n",
    "\t\tfor eq in eqs:\n",
    "\t\t\tarr_1.append(eq)\n",
    "\t\treturn arr_1[-1]"
   ]
  },
  {
   "cell_type": "code",
   "execution_count": 2,
   "metadata": {},
   "outputs": [],
   "source": [
    "data = {} # for now the data is stored in a dict (TODO: laod the data into a .csv file)\n",
    "# and alter simply run something like this\n",
    "# for _ in range(1):\n",
    "#     data.append(experiment())"
   ]
  },
  {
   "cell_type": "code",
   "execution_count": 11,
   "metadata": {},
   "outputs": [],
   "source": [
    "def epic_vertic(principal_game, agents_game):\n",
    "    # for measuring vertical alignment\n",
    "\n",
    "    principal_row = principal_game.payoff_matrices[0]\n",
    "    principal_col = principal_game.payoff_matrices[1]\n",
    "\n",
    "    agent_row = agents_game.payoff_matrices[0]\n",
    "    agent_col = agents_game.payoff_matrices[1]\n",
    "\n",
    "    # note: uniform distribution assumed\n",
    "    row_matrix_coeffs = np.corrcoef(\n",
    "        [principal_row.flatten(), agent_row.flatten()])\n",
    "    col_matrix_coeffs = np.corrcoef(\n",
    "        [principal_col.flatten(), agent_col.flatten()])\n",
    "    return (row_matrix_coeffs[0][1], col_matrix_coeffs[0][1])"
   ]
  },
  {
   "cell_type": "code",
   "execution_count": 47,
   "metadata": {},
   "outputs": [
    {
     "data": {
      "text/plain": [
       "(array([-0.08869876, -0.43861364]), -0.07522328769855224)"
      ]
     },
     "execution_count": 47,
     "metadata": {},
     "output_type": "execute_result"
    }
   ],
   "source": [
    "def experiment(game=None, epsilon_r=None, epsilon_c=None):\n",
    "\n",
    "\t\"\"\"\n",
    "\tTODO: Add an ability to pass v_alignment and h_alignment inot the function!\n",
    "\n",
    "\tWhen passing games make sure the the pay-offs are normalize (e.g. thought an affine\n",
    "\ttransformation) into a range [0, 1].\n",
    "\n",
    "\tprincipals_game is fully random (both row and column pay-offs are randomly generated)\n",
    "\t\"\"\"\n",
    "\n",
    "    # (1) Sample G and G' from uniform distribution [-1, 1]\n",
    "\tif game is None:\n",
    "\t\tagents_game = nash.Game(np.random.uniform(-1, 1, size=(2,2)), np.random.uniform(-1, 1, size=(2,2)))\n",
    "\t\tprincipals_game = nash.Game(np.random.uniform(-1, 1, size=(2,2)), np.random.uniform(-1, 1, size=(2,2)))\n",
    "\n",
    "    # (2) Sample epsilons (and a random strategy) from a uniform distribution [0, 1], \n",
    "\t# where 1 playing NE and 0 is playing at random. \n",
    "\t# note that when playing at random it's possible that the agent will end up playing NE (or well).\n",
    "\tif epsilon_c is None:\n",
    "\t\tepsilon_c = np.random.uniform(0, 1)\n",
    "\tif epsilon_r is None:\n",
    "\t\tepsilon_r = np.random.uniform(0, 1)\n",
    "\trandom_strategy = np.random.uniform(0, 1)\n",
    "\t\t\n",
    "\t# (3) Compute Game's Equilibrium (both pure and mixed) and define the best strategies\n",
    "\tstrategies = find_the_equilibrium(agents_game)\n",
    "\trow_strat = strategies[0]\n",
    "\tcol_strat = strategies[1]\n",
    "\t\n",
    "\t# (4) Adjust strategies by epsilon\n",
    "\trow_strat = row_strat * epsilon_r + random_strategy * (1 - epsilon_r)\n",
    "\tcol_strat = col_strat * epsilon_c + random_strategy * (1 - epsilon_c)\n",
    "\tadjusted_strategies = [row_strat, col_strat]\n",
    "\n",
    "    # (5) Compute Vertical and Horizontal Alignment, and Principal's Welfare\n",
    "\t# Horizontal alignment \n",
    "\trow_payoffs = agents_game.payoff_matrices[0]\n",
    "\tcol_payoffs = agents_game.payoff_matrices[1]\n",
    "\tmatrix_coeffs = np.corrcoef([row_payoffs.flatten(), col_payoffs.flatten()])\n",
    "\th_alignment = matrix_coeffs[0][1]\n",
    "\n",
    "\t# Vertical alignemnt\n",
    "\tv_alignment = epic_vertic(principals_game, agents_game)\n",
    "\n",
    "\t# Principal's Welfare (Calculate the utilities for the Principal given Agents strategies)\n",
    "\tprincipal_welf = principals_game[adjusted_strategies]\n",
    "\n",
    "\treturn principal_welf, epsilon_r, epsilon_c, h_alignment, v_alignment\n",
    "\t\n",
    "\n",
    "experiment()"
   ]
  },
  {
   "cell_type": "code",
   "execution_count": null,
   "metadata": {},
   "outputs": [],
   "source": [
    "# debugging equilibrium search using nashpy methodes\n",
    "\n",
    "game = nash.Game(np.random.uniform(-1, 1, size=(2,2)), np.random.uniform(-1, 1, size=(2,2))) # just for the testing\n",
    "print(game)\n",
    "print(\"\")\n",
    "\n",
    "print(\"----------vertex_enumeration()---------\")\n",
    "eqs = game.vertex_enumeration()\n",
    "for eq in eqs:\n",
    "    print(eq)\n",
    "\n",
    "print(\"\")\n",
    "\n",
    "print(\"----------support_enumeration()---------\")\n",
    "ggs = game.support_enumeration()\n",
    "for gg in ggs:\n",
    "    print(gg)\n",
    "\n",
    "print(\"\")\n",
    "\n",
    "print(\"----------lemke_howson_enumeration()---------\")\n",
    "lkms = game.lemke_howson_enumeration()\n",
    "for lkm in lkms:\n",
    "    print(lkm)\n",
    "\n",
    "print(\"\")\n",
    "\n",
    "# Checking the output of the function\n",
    "print(\"----------find_the_equilibrium()---------\")\n",
    "find_the_equilibrium(game)"
   ]
  }
 ],
 "metadata": {
  "kernelspec": {
   "display_name": "Python 3",
   "language": "python",
   "name": "python3"
  },
  "language_info": {
   "codemirror_mode": {
    "name": "ipython",
    "version": 3
   },
   "file_extension": ".py",
   "mimetype": "text/x-python",
   "name": "python",
   "nbconvert_exporter": "python",
   "pygments_lexer": "ipython3",
   "version": "3.10.6"
  },
  "orig_nbformat": 4,
  "vscode": {
   "interpreter": {
    "hash": "916dbcbb3f70747c44a77c7bcd40155683ae19c65e1c03b4aa3499c5328201f1"
   }
  }
 },
 "nbformat": 4,
 "nbformat_minor": 2
}
