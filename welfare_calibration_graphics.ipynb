{
 "cells": [
  {
   "cell_type": "code",
   "execution_count": null,
   "metadata": {},
   "outputs": [],
   "source": [
    "import numpy as np\n",
    "import matplotlib.pyplot as plt\n",
    "from matplotlib import cm\n",
    "\n",
    "from typing import List"
   ]
  },
  {
   "cell_type": "code",
   "execution_count": null,
   "metadata": {},
   "outputs": [],
   "source": [
    "import regret_bounds"
   ]
  },
  {
   "cell_type": "code",
   "execution_count": null,
   "metadata": {},
   "outputs": [],
   "source": [
    "def plot_miscalibration_adjustment(ms:List[float], max_wr=10):\n",
    "    ms = np.array(ms)\n",
    "    rs = 1/ms\n",
    "    R = np.linspace(0, rs.max()*1.5, 100)\n",
    "    C = regret_bounds.get_miscalibration_adjustment(ms, R)\n",
    "    candidates = np.concatenate([[0], rs])\n",
    "    have_labelled = False # to avoid label proliferation\n",
    "    for wr in np.arange(0, max_wr, 0.5):\n",
    "        line_label = '$R \\mathrm{WR} + C_R$' if not have_labelled else ''\n",
    "        plt.plot(R, C + R*wr, linewidth=1, c=cm.Greens_r(wr/max_wr), label=line_label)\n",
    "        scatter_label = 'Best $R$' if not have_labelled else ''\n",
    "        candidate_scores = regret_bounds.get_miscalibration_adjustment(ms, candidates) + candidates*wr\n",
    "        best = candidate_scores.argmin()\n",
    "        plt.scatter(candidates[best], candidate_scores[best], c='red', s=3, zorder=10, label=scatter_label)\n",
    "        have_labelled = True\n",
    "    # TODO colorbar range\n",
    "    plt.colorbar(cm.ScalarMappable(cmap=cm.Greens_r), label='WR')\n",
    "    plt.ylim(0)\n",
    "    plt.xlabel('$R$')\n",
    "    plt.ylabel('Implied bound')\n",
    "    plt.title(str(ms))\n",
    "    plt.legend()"
   ]
  },
  {
   "cell_type": "code",
   "execution_count": null,
   "metadata": {},
   "outputs": [],
   "source": [
    "ms = np.array([1, 1, 1])\n",
    "plot_miscalibration_adjustment(ms)"
   ]
  },
  {
   "cell_type": "code",
   "execution_count": null,
   "metadata": {},
   "outputs": [],
   "source": [
    "ms = np.array([1.2, 1])\n",
    "plot_miscalibration_adjustment(ms)"
   ]
  },
  {
   "cell_type": "code",
   "execution_count": null,
   "metadata": {},
   "outputs": [],
   "source": [
    "ms = np.array([2, 1, 1, 1])\n",
    "plot_miscalibration_adjustment(ms)"
   ]
  },
  {
   "cell_type": "code",
   "execution_count": null,
   "metadata": {},
   "outputs": [],
   "source": [
    "ms = np.array([1.5, 1.1, 1, 0.9, 0.8])\n",
    "plot_miscalibration_adjustment(ms)"
   ]
  },
  {
   "cell_type": "code",
   "execution_count": null,
   "metadata": {},
   "outputs": [],
   "source": [
    "ms = np.array([2, 1.4, 1.3, 1.2, 1.1, 1, 0.9, 0.8, 0.7])\n",
    "plot_miscalibration_adjustment(ms, max_wr=12)"
   ]
  }
 ],
 "metadata": {
  "kernelspec": {
   "display_name": ".venv",
   "language": "python",
   "name": "python3"
  },
  "language_info": {
   "codemirror_mode": {
    "name": "ipython",
    "version": 3
   },
   "file_extension": ".py",
   "mimetype": "text/x-python",
   "name": "python",
   "nbconvert_exporter": "python",
   "pygments_lexer": "ipython3",
   "version": "3.10.6"
  },
  "orig_nbformat": 4
 },
 "nbformat": 4,
 "nbformat_minor": 2
}
