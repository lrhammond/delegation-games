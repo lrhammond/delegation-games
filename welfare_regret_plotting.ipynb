{
 "cells": [
  {
   "attachments": {},
   "cell_type": "markdown",
   "metadata": {},
   "source": [
    "## Imports and settings"
   ]
  },
  {
   "cell_type": "code",
   "execution_count": null,
   "metadata": {},
   "outputs": [],
   "source": [
    "import numpy as np\n",
    "import pandas as pd\n",
    "import plotly.graph_objects as go\n",
    "from plotly.subplots import make_subplots\n",
    "\n",
    "import itertools\n",
    "from functools import partial\n",
    "from tqdm import tqdm\n",
    "from datetime import datetime\n",
    "import os"
   ]
  },
  {
   "cell_type": "code",
   "execution_count": null,
   "metadata": {},
   "outputs": [],
   "source": [
    "from generate_games import generate_delegation_games_with_alignment_bounds\n",
    "from evaluate_games import get_stat_nash, get_stat_general\n",
    "import regret_bounds\n",
    "from alignment import AlignmentMetric, EPIC, MAX"
   ]
  },
  {
   "attachments": {},
   "cell_type": "markdown",
   "metadata": {},
   "source": [
    "## Plotting helpers"
   ]
  },
  {
   "cell_type": "code",
   "execution_count": null,
   "metadata": {},
   "outputs": [],
   "source": [
    "def render_simple_bound_surface(welfare_regret:pd.Series, total_misalignment:pd.Series, bound_fn:regret_bounds.SimpleBound):\n",
    "    x = np.linspace(0, welfare_regret.max(), num=50)\n",
    "    y = np.linspace(0, total_misalignment.max(), num=50)\n",
    "    xx, yy = np.meshgrid(x, y)\n",
    "    zz = bound_fn(xx, yy)\n",
    "    return xx, yy, zz"
   ]
  },
  {
   "attachments": {},
   "cell_type": "markdown",
   "metadata": {},
   "source": [
    "### Plotly"
   ]
  },
  {
   "cell_type": "markdown",
   "metadata": {},
   "source": [
    "#### Specs"
   ]
  },
  {
   "cell_type": "code",
   "execution_count": null,
   "metadata": {},
   "outputs": [],
   "source": [
    "MUTED_BLUE='#1f77b4'\n",
    "def fixed_colorscale(c): return [(0, c), (1, c)]"
   ]
  },
  {
   "cell_type": "code",
   "execution_count": null,
   "metadata": {},
   "outputs": [],
   "source": [
    "layout_spec = dict(showlegend=False, margin=dict(l=0, r=0, b=0, t=0))\n",
    "axis_spec = dict(title_font_size=12, dtick=1, tickfont_size=10)\n",
    "axes_spec = dict(\n",
    "    xaxis=axis_spec,\n",
    "    yaxis=axis_spec,\n",
    "    zaxis=axis_spec,\n",
    "    xaxis_title_text='Agents\\' welfare regret',\n",
    "    yaxis_title_text='Total agent misalignment',\n",
    "    zaxis_title_text='Principals\\' welfare regret',\n",
    ")\n",
    "aspect_spec = dict(x=1, y=1, z=0.8)\n",
    "scene_spec = dict(\n",
    "    aspectratio=aspect_spec,\n",
    "    # camera_projection_type='orthographic', # optional render choice\n",
    "    **axes_spec,\n",
    ")\n",
    "lighting_spec = dict(\n",
    "    diffuse=1,\n",
    "    fresnel=5,\n",
    "    ambient=0.5,\n",
    "    roughness=1.,\n",
    "    specular=0.5,\n",
    ")\n",
    "\n",
    "cameras = [\n",
    "    dict(x=1.8, y=-1.5, z=.8),\n",
    "    dict(x=2.2, y=.75, z=.8),\n",
    "]"
   ]
  },
  {
   "cell_type": "markdown",
   "metadata": {},
   "source": [
    "#### Plotting"
   ]
  },
  {
   "cell_type": "code",
   "execution_count": null,
   "metadata": {},
   "outputs": [],
   "source": [
    "def make_simple_figure(stats, bound_fn, epsilon=0.02):\n",
    "    err = -stats.principals_welfare_regret if bound_fn is None else bound_fn(stats.welfare_regret, stats.total_misalignment) - stats.principals_welfare_regret\n",
    "\n",
    "    fig = make_subplots(specs=[[{'is_3d':True}]])\n",
    "\n",
    "    scatter = go.Scatter3d(\n",
    "        x=stats.welfare_regret,\n",
    "        y=stats.total_misalignment,\n",
    "        z=stats.principals_welfare_regret,\n",
    "        mode='markers',\n",
    "        marker=dict(\n",
    "            color=err,\n",
    "            colorscale='Greens_r',\n",
    "            size=1.5\n",
    "        ))\n",
    "    \n",
    "    fig.append_trace(scatter, row=1, col=1)\n",
    "\n",
    "    if bound_fn is not None:\n",
    "        xx, yy, zz = render_simple_bound_surface(stats.welfare_regret, stats.total_misalignment, bound_fn)\n",
    "        # adjust surface up a little to accommodate scatter point radius\n",
    "        surface = go.Surface(x=xx, y=yy, z=zz+epsilon, opacity=0.8, colorscale=fixed_colorscale(MUTED_BLUE), showscale=False, lighting=lighting_spec)\n",
    "        fig.append_trace(surface, row=1, col=1)\n",
    "\n",
    "    fig.update_layout(scene=scene_spec, scene_camera_eye=cameras[0], **layout_spec)\n",
    "    \n",
    "    return fig"
   ]
  },
  {
   "cell_type": "code",
   "execution_count": null,
   "metadata": {},
   "outputs": [],
   "source": [
    "def make_multiview_simple_figure(stats, bound_fn):\n",
    "    fig1 = make_simple_figure(stats, bound_fn)\n",
    "    fig2 = go.Figure(fig1)\n",
    "    fig = make_subplots(1, 2, specs=[[{'is_3d':True}, {'is_3d':True}]], horizontal_spacing=0)\n",
    "    fig.add_traces(data=fig1.data, rows=1, cols=1)\n",
    "    fig.add_traces(data=fig2.data, rows=1, cols=2)\n",
    "    fig.update_layout(\n",
    "        scene=scene_spec,\n",
    "        scene2=scene_spec,\n",
    "        scene_camera_eye=cameras[0],\n",
    "        scene2_camera_eye=cameras[1],\n",
    "        **layout_spec,\n",
    "        )\n",
    "    return fig"
   ]
  },
  {
   "attachments": {},
   "cell_type": "markdown",
   "metadata": {},
   "source": [
    "## Data generation\n",
    "\n",
    "Set up to generate configurable number of games and calculate stats, alternatively to read in stats from previous run"
   ]
  },
  {
   "cell_type": "code",
   "execution_count": null,
   "metadata": {},
   "outputs": [],
   "source": [
    "READ_DATA = False # Falsey value means generate afresh and save; YYYY-mm-dd string means reread from that date\n",
    "todaystr = READ_DATA if READ_DATA else datetime.today().strftime('%Y-%m-%d')"
   ]
  },
  {
   "cell_type": "code",
   "execution_count": null,
   "metadata": {},
   "outputs": [],
   "source": [
    "alignment_metric:AlignmentMetric = MAX"
   ]
  },
  {
   "cell_type": "code",
   "execution_count": null,
   "metadata": {},
   "outputs": [],
   "source": [
    "n_games = 100000\n",
    "m = [1, 1, 1, 1] # [1 for _ in range(n_players)]\n",
    "n_players = len(m)\n",
    "d_u = 4 # 2**n_players\n",
    "\n",
    "max_epic = 1\n",
    "\n",
    "max_welfare_regret = n_players * alignment_metric.constants.K_m # None means use Nash; only working for 2-agent right now"
   ]
  },
  {
   "cell_type": "code",
   "execution_count": null,
   "metadata": {},
   "outputs": [],
   "source": [
    "if max_welfare_regret is None:\n",
    "    get_stat = partial(get_stat_nash, am=alignment_metric)\n",
    "else:\n",
    "    get_stat = partial(get_stat_general, am=alignment_metric, max_welfare_regret=max_welfare_regret, use_agents=False)"
   ]
  },
  {
   "cell_type": "code",
   "execution_count": null,
   "metadata": {},
   "outputs": [],
   "source": [
    "GENERAL_IDENT = f'{alignment_metric.name}_{n_players}p_{\"x\".join(str(m_) for m_ in m if m_ != 1)}_{d_u}u_{n_games//1000}k'\n",
    "GENERAL_LOG_PATH = f'logs/{todaystr}/{GENERAL_IDENT}/'\n",
    "print(GENERAL_LOG_PATH)"
   ]
  },
  {
   "cell_type": "code",
   "execution_count": null,
   "metadata": {},
   "outputs": [],
   "source": [
    "if READ_DATA:\n",
    "    stats = pd.read_csv(GENERAL_LOG_PATH + 'data.csv', index_col=0)\n",
    "else:\n",
    "    os.makedirs(GENERAL_LOG_PATH)\n",
    "    stats = pd.DataFrame(tqdm(\n",
    "        itertools.islice(map(\n",
    "                get_stat,\n",
    "                generate_delegation_games_with_alignment_bounds(\n",
    "                    n_players=n_players,\n",
    "                    n_outcomes=d_u,\n",
    "                    m=m,\n",
    "                    max_epic=max_epic,\n",
    "                    am=alignment_metric)),\n",
    "            n_games),\n",
    "        total=n_games))\n",
    "    stats.to_csv(GENERAL_LOG_PATH + 'data.csv')\n",
    "stats"
   ]
  },
  {
   "attachments": {},
   "cell_type": "markdown",
   "metadata": {},
   "source": [
    "## Produce plots\n",
    "\n",
    "Plotting principals' welfare regret against cooperation failure (agent WR) and total misalignment (agent d_A from principals).\n",
    "\n",
    "Also plotting theoretical bounds."
   ]
  },
  {
   "cell_type": "code",
   "execution_count": null,
   "metadata": {},
   "outputs": [],
   "source": [
    "K_m = alignment_metric.constants.K_m\n",
    "K_d = alignment_metric.constants.K_d\n",
    "\n",
    "default_simple_bound = regret_bounds.bound_principals_welfare_regret_simple(cap=max_welfare_regret)\n",
    "miscal_bound = regret_bounds.bound_principals_welfare_regret_miscalibrated(ms=m, K_m=K_m, K_d=K_d, cap=max_welfare_regret)"
   ]
  },
  {
   "attachments": {},
   "cell_type": "markdown",
   "metadata": {},
   "source": [
    "### Plotly"
   ]
  },
  {
   "cell_type": "code",
   "execution_count": null,
   "metadata": {},
   "outputs": [],
   "source": [
    "# miscalibration-sensitive bound\n",
    "fig = make_simple_figure(stats, miscal_bound)\n",
    "fig.show()"
   ]
  },
  {
   "cell_type": "markdown",
   "metadata": {},
   "source": [
    "### Explicitly checking bounds"
   ]
  },
  {
   "cell_type": "code",
   "execution_count": null,
   "metadata": {},
   "outputs": [],
   "source": [
    "# if stats is produced from miscalibrated games, we should expect (at least some) failures of the simple bound\n",
    "stats[stats.principals_welfare_regret > default_simple_bound(stats.welfare_regret, stats.total_misalignment)].principals_welfare_regret.count()"
   ]
  },
  {
   "cell_type": "code",
   "execution_count": null,
   "metadata": {},
   "outputs": [],
   "source": [
    "# the miscalibration-sensitive bound should always be satisfied\n",
    "stats[stats.principals_welfare_regret > miscal_bound(stats.welfare_regret, stats.total_misalignment)].principals_welfare_regret.count()"
   ]
  }
 ],
 "metadata": {
  "kernelspec": {
   "display_name": "Python 3 (ipykernel)",
   "language": "python",
   "name": "python3"
  },
  "language_info": {
   "codemirror_mode": {
    "name": "ipython",
    "version": 3
   },
   "file_extension": ".py",
   "mimetype": "text/x-python",
   "name": "python",
   "nbconvert_exporter": "python",
   "pygments_lexer": "ipython3",
   "version": "3.10.6"
  }
 },
 "nbformat": 4,
 "nbformat_minor": 2
}
