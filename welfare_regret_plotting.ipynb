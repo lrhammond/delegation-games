{
 "cells": [
  {
   "attachments": {},
   "cell_type": "markdown",
   "metadata": {},
   "source": [
    "## Imports and settings"
   ]
  },
  {
   "cell_type": "code",
   "execution_count": null,
   "metadata": {},
   "outputs": [],
   "source": [
    "import numpy as np\n",
    "import pandas as pd\n",
    "import matplotlib.pyplot as plt\n",
    "import plotly.graph_objects as go\n",
    "from plotly.subplots import make_subplots\n",
    "\n",
    "import itertools\n",
    "from tqdm import tqdm\n",
    "from datetime import datetime\n",
    "import os"
   ]
  },
  {
   "cell_type": "code",
   "execution_count": null,
   "metadata": {},
   "outputs": [],
   "source": [
    "from generate_games import DelegationGame, flatgame_to_game, generate_delegation_games, generate_delegation_games_with_alignment_bounds\n",
    "from evaluate_games import SimpleStat, get_stat_nash\n",
    "import regret_bounds"
   ]
  },
  {
   "attachments": {},
   "cell_type": "markdown",
   "metadata": {},
   "source": [
    "## Plotting helpers"
   ]
  },
  {
   "cell_type": "code",
   "execution_count": null,
   "metadata": {},
   "outputs": [],
   "source": [
    "def render_simple_bound_surface(welfare_regret:pd.Series, total_misalignment:pd.Series, bound_fn:regret_bounds.SimpleBound):\n",
    "    x = np.linspace(0, welfare_regret.max(), num=50)\n",
    "    y = np.linspace(0, total_misalignment.max(), num=50)\n",
    "    xx, yy = np.meshgrid(x, y)\n",
    "    zz = bound_fn(xx, yy)\n",
    "    return xx, yy, zz"
   ]
  },
  {
   "attachments": {},
   "cell_type": "markdown",
   "metadata": {},
   "source": [
    "### Pyplot"
   ]
  },
  {
   "cell_type": "code",
   "execution_count": null,
   "metadata": {},
   "outputs": [],
   "source": [
    "plt.rcParams['figure.dpi'] = 200 # 100"
   ]
  },
  {
   "cell_type": "code",
   "execution_count": null,
   "metadata": {},
   "outputs": [],
   "source": [
    "def plot_stats(stats, bound_fn, view=(10, 30), ax=None, label=None, cmap=None):\n",
    "    ax = plt.subplot(projection='3d') if ax is None else ax\n",
    "    ax.view_init(*view)\n",
    "\n",
    "    err = -stats.principals_welfare_regret if bound_fn is None else bound_fn(stats.welfare_regret, stats.total_misalignment) - stats.principals_welfare_regret\n",
    "\n",
    "    ax.scatter(\n",
    "        stats.welfare_regret,\n",
    "        stats.total_misalignment,\n",
    "        stats.principals_welfare_regret,\n",
    "        c=err,\n",
    "        cmap='Greens_r' if cmap is None else cmap,\n",
    "        s=0.5,\n",
    "        label=label)\n",
    "\n",
    "    if bound_fn is not None:\n",
    "        xx, yy, zz = render_simple_bound_surface(stats.welfare_regret, stats.total_misalignment, bound_fn)\n",
    "        ax.plot_surface(xx, yy, zz, alpha=0.8)\n",
    "\n",
    "    ax.set_xlabel('$\\mathrm{WR}$')\n",
    "    ax.set_ylabel('$\\sum d_A$')\n",
    "    ax.set_zlabel('$\\hat\\mathrm{WR}$')"
   ]
  },
  {
   "cell_type": "code",
   "execution_count": null,
   "metadata": {},
   "outputs": [],
   "source": [
    "def plot_stats_multiview(stats, bound_fn):\n",
    "    axl = plt.subplot(1, 2, 1, projection='3d')\n",
    "    axr = plt.subplot(1, 2, 2, projection='3d')\n",
    "    plot_stats(stats, bound_fn=bound_fn, view=(20, 10), ax=axl) # (20, 10) bound surface top and behind\n",
    "    plot_stats(stats, bound_fn=bound_fn, view=(20, -40), ax=axr) # (20, -40) bound surface at front and top"
   ]
  },
  {
   "attachments": {},
   "cell_type": "markdown",
   "metadata": {},
   "source": [
    "### Plotly"
   ]
  },
  {
   "cell_type": "code",
   "execution_count": null,
   "metadata": {},
   "outputs": [],
   "source": [
    "MUTED_BLUE='#1f77b4'\n",
    "def fixed_colorscale(c): return [(0, c), (1, c)]"
   ]
  },
  {
   "cell_type": "code",
   "execution_count": null,
   "metadata": {},
   "outputs": [],
   "source": [
    "layout_spec = dict(showlegend=False, margin=dict(l=0, r=0, b=0, t=0))\n",
    "axis_spec = dict(title_font_size=10, dtick=1, tickfont_size=10)\n",
    "axes_spec = dict(\n",
    "    xaxis=axis_spec,\n",
    "    yaxis=axis_spec,\n",
    "    zaxis=axis_spec,\n",
    "    xaxis_title_text='Cooperation failure',\n",
    "    yaxis_title_text='Total agent misalignment',\n",
    "    zaxis_title_text='Principals\\' welfare regret',\n",
    ")\n",
    "aspect_spec = dict(x=1, y=1, z=0.8)\n",
    "scene_spec = dict(\n",
    "    aspectratio=aspect_spec,\n",
    "    # camera_projection_type='orthographic', # optional render choice\n",
    "    **axes_spec,\n",
    ")\n",
    "lighting_spec = dict(\n",
    "    diffuse=1,\n",
    "    fresnel=5,\n",
    "    ambient=0.5,\n",
    "    roughness=1.,\n",
    "    specular=0.5,\n",
    ")"
   ]
  },
  {
   "cell_type": "code",
   "execution_count": null,
   "metadata": {},
   "outputs": [],
   "source": [
    "def make_simple_figure(stats, bound_fn):\n",
    "    err = -stats.principals_welfare_regret if bound_fn is None else bound_fn(stats.welfare_regret, stats.total_misalignment) - stats.principals_welfare_regret\n",
    "\n",
    "    fig = make_subplots(specs=[[{'is_3d':True}]])\n",
    "\n",
    "    scatter = go.Scatter3d(\n",
    "        x=stats.welfare_regret,\n",
    "        y=stats.total_misalignment,\n",
    "        z=stats.principals_welfare_regret,\n",
    "        mode='markers',\n",
    "        marker=dict(\n",
    "            color=err,\n",
    "            colorscale='Greens_r',\n",
    "            size=1.5\n",
    "        ))\n",
    "    \n",
    "    fig.append_trace(scatter, row=1, col=1)\n",
    "\n",
    "    if bound_fn is not None:\n",
    "        xx, yy, zz = render_simple_bound_surface(stats.welfare_regret, stats.total_misalignment, bound_fn)\n",
    "        surface = go.Surface(x=xx, y=yy, z=zz, opacity=0.8, colorscale=fixed_colorscale(MUTED_BLUE), showscale=False, lighting=lighting_spec)\n",
    "        fig.append_trace(surface, row=1, col=1)\n",
    "\n",
    "    fig.update_layout(scene=scene_spec, **layout_spec)\n",
    "    \n",
    "    return fig"
   ]
  },
  {
   "cell_type": "code",
   "execution_count": null,
   "metadata": {},
   "outputs": [],
   "source": [
    "def make_multiview_simple_figure(stats, bound_fn):\n",
    "    fig1 = make_simple_figure(stats, bound_fn)\n",
    "    fig2 = go.Figure(fig1)\n",
    "    fig = make_subplots(1, 2, specs=[[{'is_3d':True}, {'is_3d':True}]], horizontal_spacing=0)\n",
    "    fig.add_traces(data=fig1.data, rows=1, cols=1)\n",
    "    fig.add_traces(data=fig2.data, rows=1, cols=2)\n",
    "    fig.update_layout(\n",
    "        scene=scene_spec,\n",
    "        scene2=scene_spec,\n",
    "        scene_camera_eye=dict(x=1.8, y=-1.5, z=.8),\n",
    "        scene2_camera_eye=dict(x=2.2, y=.75, z=.8),\n",
    "        **layout_spec,\n",
    "        )\n",
    "    return fig"
   ]
  },
  {
   "attachments": {},
   "cell_type": "markdown",
   "metadata": {},
   "source": [
    "## Data generation\n",
    "\n",
    "Set up to generate configurable number of games and calculate stats, alternatively to read in stats from previous run"
   ]
  },
  {
   "cell_type": "code",
   "execution_count": null,
   "metadata": {},
   "outputs": [],
   "source": [
    "READ_DATA = False # Falsey value means generate afresh and save; YYYY-mm-dd string means reread from that date\n",
    "todaystr = READ_DATA if READ_DATA else datetime.today().strftime('%Y-%m-%d')"
   ]
  },
  {
   "cell_type": "code",
   "execution_count": null,
   "metadata": {},
   "outputs": [],
   "source": [
    "n_games = 100000\n",
    "SIMPLE_IDENT = f'simple_{n_games//1000}k'\n",
    "SIMPLE_LOG_PATH = f'logs/{todaystr}/{SIMPLE_IDENT}/'\n",
    "print(SIMPLE_LOG_PATH)"
   ]
  },
  {
   "cell_type": "code",
   "execution_count": null,
   "metadata": {},
   "outputs": [],
   "source": [
    "if READ_DATA:\n",
    "    stats = pd.read_csv(SIMPLE_LOG_PATH + 'data.csv', index_col=0)\n",
    "else:\n",
    "    stats = pd.DataFrame(tqdm(\n",
    "        itertools.islice(map(get_stat_nash, generate_delegation_games()), n_games),\n",
    "        total=n_games))\n",
    "    os.makedirs(SIMPLE_LOG_PATH)\n",
    "    stats.to_csv(SIMPLE_LOG_PATH + 'data.csv')\n",
    "stats"
   ]
  },
  {
   "cell_type": "code",
   "execution_count": null,
   "metadata": {},
   "outputs": [],
   "source": [
    "n_games_quite_aligned = 20000\n",
    "max_epic = 0.5\n",
    "SIMPLE_COMBO_IDENT = f'{SIMPLE_IDENT}_combo_aligned_{max_epic}_{n_games_quite_aligned//1000}k'\n",
    "SIMPLE_COMBO_LOG_PATH = f\"logs/{todaystr}/{SIMPLE_COMBO_IDENT}/\"\n",
    "print(SIMPLE_COMBO_LOG_PATH)"
   ]
  },
  {
   "cell_type": "code",
   "execution_count": null,
   "metadata": {},
   "outputs": [],
   "source": [
    "if READ_DATA:\n",
    "    stats_quite_aligned = pd.read_csv(SIMPLE_COMBO_LOG_PATH + 'extra_data.csv', index_col=0)\n",
    "else:\n",
    "    stats_quite_aligned = pd.DataFrame(tqdm(\n",
    "        itertools.islice(map(get_stat_nash, generate_delegation_games_with_alignment_bounds(max_epic=max_epic)), n_games_quite_aligned),\n",
    "        total=n_games_quite_aligned))\n",
    "    os.makedirs(SIMPLE_COMBO_LOG_PATH)\n",
    "    stats_quite_aligned.to_csv(SIMPLE_COMBO_LOG_PATH + 'extra_data.csv')"
   ]
  },
  {
   "cell_type": "code",
   "execution_count": null,
   "metadata": {},
   "outputs": [],
   "source": [
    "stats_combo = pd.concat([stats, stats_quite_aligned], ignore_index=True)\n",
    "stats_combo"
   ]
  },
  {
   "attachments": {},
   "cell_type": "markdown",
   "metadata": {},
   "source": [
    "## Produce plots\n",
    "\n",
    "Plotting principals' welfare regret against cooperation failure (agent WR) and total misalignment (agent d_A from principals).\n",
    "\n",
    "Also plotting theoretical bounds."
   ]
  },
  {
   "cell_type": "code",
   "execution_count": null,
   "metadata": {},
   "outputs": [],
   "source": [
    "default_simple_bound = regret_bounds.bound_principals_welfare_regret_simple()\n",
    "conjecture_simple_bound = regret_bounds.bound_principals_welfare_regret_simple(mul=2*np.sqrt(2))"
   ]
  },
  {
   "attachments": {},
   "cell_type": "markdown",
   "metadata": {},
   "source": [
    "### Pyplot"
   ]
  },
  {
   "cell_type": "code",
   "execution_count": null,
   "metadata": {},
   "outputs": [],
   "source": [
    "plot_stats_multiview(stats_combo, default_simple_bound)\n",
    "plt.savefig(SIMPLE_COMBO_LOG_PATH + f'{SIMPLE_COMBO_IDENT}_render_with_bound.png', bbox_inches='tight')"
   ]
  },
  {
   "cell_type": "code",
   "execution_count": null,
   "metadata": {},
   "outputs": [],
   "source": [
    "plot_stats_multiview(stats_combo, conjecture_simple_bound)\n",
    "plt.savefig(SIMPLE_COMBO_LOG_PATH + f'{SIMPLE_COMBO_IDENT}_render_with_bound_conjecture.png', bbox_inches='tight')"
   ]
  },
  {
   "attachments": {},
   "cell_type": "markdown",
   "metadata": {},
   "source": [
    "### Plotly"
   ]
  },
  {
   "cell_type": "code",
   "execution_count": null,
   "metadata": {},
   "outputs": [],
   "source": [
    "fig = make_multiview_simple_figure(stats_combo, default_simple_bound)\n",
    "fig.show()\n",
    "# fig.write_image(SIMPLE_COMBO_LOG_PATH + f'{SIMPLE_COMBO_IDENT}_3d_render_with_bound.png')"
   ]
  },
  {
   "cell_type": "code",
   "execution_count": null,
   "metadata": {},
   "outputs": [],
   "source": [
    "# conjecture, tighter bound supported by simulations\n",
    "fig = make_multiview_simple_figure(stats_combo, conjecture_simple_bound)\n",
    "fig.show()\n",
    "# fig.write_image(SIMPLE_COMBO_LOG_PATH + f'{SIMPLE_COMBO_IDENT}_3d_render_with_bound_conjecture.png')"
   ]
  }
 ],
 "metadata": {
  "kernelspec": {
   "display_name": "Python 3 (ipykernel)",
   "language": "python",
   "name": "python3"
  },
  "language_info": {
   "codemirror_mode": {
    "name": "ipython",
    "version": 3
   },
   "file_extension": ".py",
   "mimetype": "text/x-python",
   "name": "python",
   "nbconvert_exporter": "python",
   "pygments_lexer": "ipython3",
   "version": "3.10.6"
  }
 },
 "nbformat": 4,
 "nbformat_minor": 2
}
